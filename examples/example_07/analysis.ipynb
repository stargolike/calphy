{
 "cells": [
  {
   "cell_type": "markdown",
   "id": "bf354e59",
   "metadata": {},
   "source": [
    "# Example 07: Upsampling calculations"
   ]
  },
  {
   "cell_type": "markdown",
   "id": "f397582d",
   "metadata": {},
   "source": [
    "In this example, upsampling calculations which can be used to switch a system between two different interatomic potentials is illustrated. \n",
    "\n",
    "The major change in the input file is that both `pair_style` and `pair_coeff` keywords have two arguments. These are the two potentials between which the transformation will be carried out.\n",
    "\n",
    "The first potential is a Finnis-Sinclair (FS) potential for copper:  \n",
    "\n",
    "[M.I. Mendelev, M.J. Kramer, C.A. Becker, and M. Asta (2008), \"Analysis of semi-empirical interatomic potentials appropriate for simulation of crystalline and liquid Al and Cu\", Philosophical Magazine, 88(12), 1723-1750.](https://doi.org/10.1080/14786430802206482)\n",
    "\n",
    "The second potential is an EAM:  \n",
    "\n",
    "[Mishin, Y., M. J. Mehl, D. A. Papaconstantopoulos, A. F. Voter, and J. D. Kress. “Structural Stability and Lattice Defects in Copper: Ab Initio , Tight-Binding, and Embedded-Atom Calculations.” Physical Review B 63, no. 22 (May 21, 2001): 224106.](https://doi.org/10.1103/PhysRevB.63.224106)  \n",
    "\n",
    "If we know the free energy of the FS potential at a given temperature, we can calculate the free energy of the EAM through upsampling calculations. Upsampling calculations generally need only much less switching time, thus is quite useful in the case of expensive interatomic potentials, such as machine learning potentials.\n",
    "\n",
    "We start by calculating the free energy of the FS potential. The input file is available at `pot1/input.1.yaml`. As usual, the calculation can be run using `calphy -i input.1.yaml`. We can now load the `report.yaml` file and check the free energy."
   ]
  },
  {
   "cell_type": "code",
   "execution_count": 1,
   "id": "7d67fceb",
   "metadata": {},
   "outputs": [],
   "source": [
    "import numpy as np\n",
    "from calphy.postprocessing import read_report"
   ]
  },
  {
   "cell_type": "code",
   "execution_count": 2,
   "id": "84a4c423",
   "metadata": {},
   "outputs": [],
   "source": [
    "pot1 = read_report('pot1/fe-fcc-solid-600-0')"
   ]
  },
  {
   "cell_type": "code",
   "execution_count": 3,
   "id": "72532dbd",
   "metadata": {},
   "outputs": [
    {
     "data": {
      "text/plain": [
       "-3.440051166622059"
      ]
     },
     "execution_count": 3,
     "metadata": {},
     "output_type": "execute_result"
    }
   ],
   "source": [
    "pot1['results']['free_energy']"
   ]
  },
  {
   "cell_type": "markdown",
   "id": "134dc9f1",
   "metadata": {},
   "source": [
    "Now we can transform FS to EAM potential (see input file above). After running the calculation, we can check the free energy of this alchemical transformation."
   ]
  },
  {
   "cell_type": "code",
   "execution_count": 4,
   "id": "c21e8e87",
   "metadata": {},
   "outputs": [],
   "source": [
    "alchemy = read_report('alchemy-fcc-solid-600-0')"
   ]
  },
  {
   "cell_type": "code",
   "execution_count": 5,
   "id": "4845b921",
   "metadata": {},
   "outputs": [
    {
     "data": {
      "text/plain": [
       "-0.2544850177491684"
      ]
     },
     "execution_count": 5,
     "metadata": {},
     "output_type": "execute_result"
    }
   ],
   "source": [
    "alchemy['results']['free_energy']"
   ]
  },
  {
   "cell_type": "markdown",
   "id": "252cb4a4",
   "metadata": {},
   "source": [
    "The free energy of the EAM potential, $F_\\mathrm{EAM} = F_\\mathrm{FS} + F_\\mathrm{upsampling}$"
   ]
  },
  {
   "cell_type": "code",
   "execution_count": 6,
   "id": "8241e478",
   "metadata": {},
   "outputs": [
    {
     "data": {
      "text/plain": [
       "-3.694536184371227"
      ]
     },
     "execution_count": 6,
     "metadata": {},
     "output_type": "execute_result"
    }
   ],
   "source": [
    "pot1['results']['free_energy']+alchemy['results']['free_energy']"
   ]
  },
  {
   "cell_type": "markdown",
   "id": "b728a4bd",
   "metadata": {},
   "source": [
    "We can verify this calculation by directly computing the free energy of the EAM potential. The input file is available at `pot2/input-fe.yaml`. "
   ]
  },
  {
   "cell_type": "code",
   "execution_count": 7,
   "id": "e73096cb",
   "metadata": {},
   "outputs": [],
   "source": [
    "pot2 = read_report('pot2/fe-fcc-solid-600-0')"
   ]
  },
  {
   "cell_type": "code",
   "execution_count": 8,
   "id": "6a0ee06c",
   "metadata": {},
   "outputs": [
    {
     "data": {
      "text/plain": [
       "-3.694201038169466"
      ]
     },
     "execution_count": 8,
     "metadata": {},
     "output_type": "execute_result"
    }
   ],
   "source": [
    "pot2['results']['free_energy']"
   ]
  },
  {
   "cell_type": "markdown",
   "id": "b89d91c1",
   "metadata": {},
   "source": [
    "We can see that the directly calculation is in meV agreement with the upsampling calculations."
   ]
  }
 ],
 "metadata": {
  "kernelspec": {
   "display_name": "pyiron",
   "language": "python",
   "name": "pyiron"
  },
  "language_info": {
   "codemirror_mode": {
    "name": "ipython",
    "version": 3
   },
   "file_extension": ".py",
   "mimetype": "text/x-python",
   "name": "python",
   "nbconvert_exporter": "python",
   "pygments_lexer": "ipython3",
   "version": "3.11.7"
  }
 },
 "nbformat": 4,
 "nbformat_minor": 5
}
